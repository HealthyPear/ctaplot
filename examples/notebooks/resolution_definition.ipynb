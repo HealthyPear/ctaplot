{
 "cells": [
  {
   "cell_type": "markdown",
   "metadata": {},
   "source": [
    "# How is resolution computed"
   ]
  },
  {
   "cell_type": "code",
   "execution_count": 1,
   "metadata": {},
   "outputs": [],
   "source": [
    "import numpy as np\n",
    "import matplotlib.pyplot as plt\n",
    "from ctaplot.ana import resolution"
   ]
  },
  {
   "cell_type": "markdown",
   "metadata": {},
   "source": [
    "## Normal distribution\n",
    "For a nomal distribution, $\\sigma$ corresponds to the 68 percentile of the distribution   \n",
    "See the [68–95–99.7 rule](https://en.wikipedia.org/wiki/68%E2%80%9395%E2%80%9399.7_rule)"
   ]
  },
  {
   "cell_type": "code",
   "execution_count": 33,
   "metadata": {},
   "outputs": [
    {
     "name": "stdout",
     "output_type": "stream",
     "text": [
      "68th percentile = 2.9975\n",
      "95th percentile = 6.0096\n",
      "99th percentile = 9.0059\n"
     ]
    },
    {
     "data": {
      "image/png": "[encoded data removed]",
      "text/plain": [
       "<Figure size 432x288 with 1 Axes>"
      ]
     },
     "metadata": {},
     "output_type": "display_data"
    }
   ],
   "source": [
    "loc = 10\n",
    "scale = 3\n",
    "\n",
    "X = np.random.normal(size=1000000, scale=scale, loc=loc)\n",
    "plt.hist(np.abs(X - loc), bins=80)\n",
    "\n",
    "sig_68 = np.percentile(np.abs(X - loc), 68.27)\n",
    "sig_95 = np.percentile(np.abs(X - loc), 95.45)\n",
    "sig_99 = np.percentile(np.abs(X - loc), 99.73)\n",
    "\n",
    "print(\"68th percentile = {:.4f}\".format(sig_68))\n",
    "print(\"95th percentile = {:.4f}\".format(sig_95))\n",
    "print(\"99th percentile = {:.4f}\".format(sig_99))\n",
    "\n",
    "assert np.isclose(sig_68, scale, rtol=1e-2)\n",
    "assert np.isclose(sig_95, 2 * scale, rtol=1e-2)\n",
    "assert np.isclose(sig_99, 3 * scale, rtol=1e-2)"
   ]
  },
  {
   "cell_type": "markdown",
   "metadata": {},
   "source": [
    "## Resolution\n",
    "The resolution is defined as the 68th percentile of the relative error `err = (reco - simu)/reco`    \n",
    "Hence, if the relative error follows a normal distribution, the resolution is equal to the sigma of the distribution"
   ]
  },
  {
   "cell_type": "code",
   "execution_count": 34,
   "metadata": {},
   "outputs": [
    {
     "data": {
      "image/png": "[encoded data removed]",
      "text/plain": [
       "<Figure size 432x288 with 1 Axes>"
      ]
     },
     "metadata": {},
     "output_type": "display_data"
    }
   ],
   "source": [
    "err = np.abs(X - loc)\n",
    "simu = loc * np.ones(X.shape[0])\n",
    "plt.hist(err, bins=80)\n",
    "plt.title('err')\n",
    "plt.show()"
   ]
  },
  {
   "cell_type": "markdown",
   "metadata": {},
   "source": [
    "Let's define `reco` in order to have a relative error equals to `err`.   \n",
    "Its resolution is equals to the sigma of the distribution"
   ]
  },
  {
   "cell_type": "code",
   "execution_count": 35,
   "metadata": {},
   "outputs": [
    {
     "name": "stdout",
     "output_type": "stream",
     "text": [
      "[2.98071154 2.97606628 2.98567002]\n"
     ]
    }
   ],
   "source": [
    "reco = simu / (1 - (X - loc))\n",
    "res = resolution(simu, reco)\n",
    "print(res)\n",
    "assert np.isclose(res[0], scale, rtol=1e-2)"
   ]
  },
  {
   "cell_type": "code",
   "execution_count": null,
   "metadata": {},
   "outputs": [],
   "source": []
  }
 ],
 "metadata": {
  "kernelspec": {
   "display_name": "Python 3",
   "language": "python",
   "name": "python3"
  },
  "language_info": {
   "codemirror_mode": {
    "name": "ipython",
    "version": 3
   },
   "file_extension": ".py",
   "mimetype": "text/x-python",
   "name": "python",
   "nbconvert_exporter": "python",
   "pygments_lexer": "ipython3",
   "version": "3.5.4"
  }
 },
 "nbformat": 4,
 "nbformat_minor": 2
}
